{
 "cells": [
  {
   "cell_type": "code",
   "execution_count": 1,
   "metadata": {},
   "outputs": [],
   "source": [
    "import wandb\n",
    "import pandas as pd "
   ]
  },
  {
   "cell_type": "code",
   "execution_count": 2,
   "metadata": {},
   "outputs": [],
   "source": [
    "api = wandb.Api()\n",
    "runs = api.runs(\"brain_net/brain_net\")"
   ]
  },
  {
   "cell_type": "code",
   "execution_count": 3,
   "metadata": {},
   "outputs": [],
   "source": [
    "summary_list, config_list, name_list, id_list = [], [], [], []\n",
    "for run in runs: \n",
    "    # .summary contains the output keys/values for metrics like accuracy.\n",
    "    #  We call ._json_dict to omit large files \n",
    "    summary_list.append(run.summary._json_dict)\n",
    "\n",
    "    # .config contains the hyperparameters.\n",
    "    #  We remove special values that start with _.\n",
    "    config_list.append(\n",
    "        {k: v for k,v in run.config.items()\n",
    "         if not k.startswith('_')})\n",
    "\n",
    "    # .name is the human-readable name of the run.\n",
    "    name_list.append(run.name)\n",
    "    id_list.append(run.id)\n",
    "\n",
    "runs_df = pd.DataFrame({\n",
    "    \"summary\": summary_list,\n",
    "    \"config\": config_list,\n",
    "    \"name\": name_list,\n",
    "    \"id\": id_list\n",
    "    })"
   ]
  },
  {
   "cell_type": "code",
   "execution_count": 4,
   "metadata": {},
   "outputs": [
    {
     "data": {
      "text/html": [
       "<div>\n",
       "<style scoped>\n",
       "    .dataframe tbody tr th:only-of-type {\n",
       "        vertical-align: middle;\n",
       "    }\n",
       "\n",
       "    .dataframe tbody tr th {\n",
       "        vertical-align: top;\n",
       "    }\n",
       "\n",
       "    .dataframe thead th {\n",
       "        text-align: right;\n",
       "    }\n",
       "</style>\n",
       "<table border=\"1\" class=\"dataframe\">\n",
       "  <thead>\n",
       "    <tr style=\"text-align: right;\">\n",
       "      <th></th>\n",
       "      <th>summary</th>\n",
       "      <th>config</th>\n",
       "      <th>name</th>\n",
       "      <th>id</th>\n",
       "    </tr>\n",
       "  </thead>\n",
       "  <tbody>\n",
       "    <tr>\n",
       "      <th>0</th>\n",
       "      <td>{}</td>\n",
       "      <td>{}</td>\n",
       "      <td>fallen-disco-164</td>\n",
       "      <td>2ionatm4</td>\n",
       "    </tr>\n",
       "    <tr>\n",
       "      <th>1</th>\n",
       "      <td>{'Val AUC': 0.8833891464880645, 'Test AUC': 0....</td>\n",
       "      <td>{}</td>\n",
       "      <td>playful-butterfly-163</td>\n",
       "      <td>qbio0jsj</td>\n",
       "    </tr>\n",
       "    <tr>\n",
       "      <th>2</th>\n",
       "      <td>{'_step': 399, '_wandb': {'runtime': 3099}, '_...</td>\n",
       "      <td>{}</td>\n",
       "      <td>upbeat-star-162</td>\n",
       "      <td>1h9km80c</td>\n",
       "    </tr>\n",
       "    <tr>\n",
       "      <th>3</th>\n",
       "      <td>{'_wandb': {'runtime': 2379}, 'micro recall': ...</td>\n",
       "      <td>{}</td>\n",
       "      <td>easy-universe-161</td>\n",
       "      <td>3ev6cf5s</td>\n",
       "    </tr>\n",
       "    <tr>\n",
       "      <th>4</th>\n",
       "      <td>{'_wandb': {'runtime': 154}}</td>\n",
       "      <td>{}</td>\n",
       "      <td>floral-microwave-160</td>\n",
       "      <td>1vnj0ge0</td>\n",
       "    </tr>\n",
       "    <tr>\n",
       "      <th>...</th>\n",
       "      <td>...</td>\n",
       "      <td>...</td>\n",
       "      <td>...</td>\n",
       "      <td>...</td>\n",
       "    </tr>\n",
       "    <tr>\n",
       "      <th>116</th>\n",
       "      <td>{'_wandb': {'runtime': 87}, 'Test Loss': 8.880...</td>\n",
       "      <td>{}</td>\n",
       "      <td>noble-moon-5</td>\n",
       "      <td>1yuyp2mb</td>\n",
       "    </tr>\n",
       "    <tr>\n",
       "      <th>117</th>\n",
       "      <td>{'Test Accuracy': 67, 'Train Accuracy': 54.829...</td>\n",
       "      <td>{}</td>\n",
       "      <td>polished-yogurt-4</td>\n",
       "      <td>27ybk5eg</td>\n",
       "    </tr>\n",
       "    <tr>\n",
       "      <th>118</th>\n",
       "      <td>{'_wandb': {'runtime': 90}, '_step': 199, '_ru...</td>\n",
       "      <td>{}</td>\n",
       "      <td>major-snowflake-3</td>\n",
       "      <td>1gy7oq38</td>\n",
       "    </tr>\n",
       "    <tr>\n",
       "      <th>119</th>\n",
       "      <td>{'Test Accuracy': 66, '_runtime': 89.831476926...</td>\n",
       "      <td>{}</td>\n",
       "      <td>treasured-shape-2</td>\n",
       "      <td>10ioe5hr</td>\n",
       "    </tr>\n",
       "    <tr>\n",
       "      <th>120</th>\n",
       "      <td>{'Test Sensitivity': 0.6530612244897959, 'Test...</td>\n",
       "      <td>{}</td>\n",
       "      <td>noble-star-1</td>\n",
       "      <td>21tbm52x</td>\n",
       "    </tr>\n",
       "  </tbody>\n",
       "</table>\n",
       "<p>121 rows × 4 columns</p>\n",
       "</div>"
      ],
      "text/plain": [
       "                                               summary config  \\\n",
       "0                                                   {}     {}   \n",
       "1    {'Val AUC': 0.8833891464880645, 'Test AUC': 0....     {}   \n",
       "2    {'_step': 399, '_wandb': {'runtime': 3099}, '_...     {}   \n",
       "3    {'_wandb': {'runtime': 2379}, 'micro recall': ...     {}   \n",
       "4                         {'_wandb': {'runtime': 154}}     {}   \n",
       "..                                                 ...    ...   \n",
       "116  {'_wandb': {'runtime': 87}, 'Test Loss': 8.880...     {}   \n",
       "117  {'Test Accuracy': 67, 'Train Accuracy': 54.829...     {}   \n",
       "118  {'_wandb': {'runtime': 90}, '_step': 199, '_ru...     {}   \n",
       "119  {'Test Accuracy': 66, '_runtime': 89.831476926...     {}   \n",
       "120  {'Test Sensitivity': 0.6530612244897959, 'Test...     {}   \n",
       "\n",
       "                      name        id  \n",
       "0         fallen-disco-164  2ionatm4  \n",
       "1    playful-butterfly-163  qbio0jsj  \n",
       "2          upbeat-star-162  1h9km80c  \n",
       "3        easy-universe-161  3ev6cf5s  \n",
       "4     floral-microwave-160  1vnj0ge0  \n",
       "..                     ...       ...  \n",
       "116           noble-moon-5  1yuyp2mb  \n",
       "117      polished-yogurt-4  27ybk5eg  \n",
       "118      major-snowflake-3  1gy7oq38  \n",
       "119      treasured-shape-2  10ioe5hr  \n",
       "120           noble-star-1  21tbm52x  \n",
       "\n",
       "[121 rows x 4 columns]"
      ]
     },
     "execution_count": 4,
     "metadata": {},
     "output_type": "execute_result"
    }
   ],
   "source": [
    "runs_df"
   ]
  },
  {
   "cell_type": "code",
   "execution_count": 6,
   "metadata": {},
   "outputs": [
    {
     "name": "stdout",
     "output_type": "stream",
     "text": [
      "Best Val AUC: 0.9041498141552472\n",
      "Best Test AUC: 0.8932068563108252\n",
      "Best Test acc: 81.79824561403508\n"
     ]
    }
   ],
   "source": [
    "run = api.run(\"brain_net/brain_net/3ev6cf5s\")\n",
    "hist = run.history()\n",
    "best_idx = hist['Val AUC'].idxmax()\n",
    "print(f\"Best Val AUC: {hist['Val AUC'][best_idx]}\")\n",
    "print(f\"Best Test AUC: {hist['Test AUC'][best_idx]}\")\n",
    "print(f\"Best Test acc: {hist['Test Accuracy'][best_idx]}\")\n"
   ]
  },
  {
   "cell_type": "code",
   "execution_count": 7,
   "metadata": {},
   "outputs": [
    {
     "name": "stdout",
     "output_type": "stream",
     "text": [
      "Best Val AUC: 0.8924263885312045\n",
      "Best Test AUC: 0.8943342776203966\n",
      "Best Test acc: 75.69546117824481\n"
     ]
    }
   ],
   "source": [
    "run = api.run(\"brain_net/brain_net/1h9km80c\")\n",
    "hist = run.history()\n",
    "best_idx = hist['Val AUC'].idxmax()\n",
    "print(f\"Best Val AUC: {hist['Val AUC'][best_idx]}\")\n",
    "print(f\"Best Test AUC: {hist['Test AUC'][best_idx]}\")\n",
    "print(f\"Best Test acc: {hist['Test Accuracy'][best_idx]}\")"
   ]
  },
  {
   "cell_type": "code",
   "execution_count": 8,
   "metadata": {},
   "outputs": [
    {
     "name": "stdout",
     "output_type": "stream",
     "text": [
      "Best Val AUC: 0.8950369225485145\n",
      "Best Test AUC: 0.8808430102008082\n",
      "Best Test acc: 79.76625271693383\n"
     ]
    }
   ],
   "source": [
    "run = api.run(\"brain_net/brain_net/qbio0jsj\")\n",
    "hist = run.history()\n",
    "best_idx = hist['Val AUC'].idxmax()\n",
    "print(f\"Best Val AUC: {hist['Val AUC'][best_idx]}\")\n",
    "print(f\"Best Test AUC: {hist['Test AUC'][best_idx]}\")\n",
    "print(f\"Best Test acc: {hist['Test Accuracy'][best_idx]}\")"
   ]
  },
  {
   "cell_type": "code",
   "execution_count": null,
   "metadata": {},
   "outputs": [],
   "source": []
  }
 ],
 "metadata": {
  "kernelspec": {
   "display_name": "bnt2",
   "language": "python",
   "name": "python3"
  },
  "language_info": {
   "codemirror_mode": {
    "name": "ipython",
    "version": 3
   },
   "file_extension": ".py",
   "mimetype": "text/x-python",
   "name": "python",
   "nbconvert_exporter": "python",
   "pygments_lexer": "ipython3",
   "version": "3.9.15"
  },
  "orig_nbformat": 4,
  "vscode": {
   "interpreter": {
    "hash": "4b3bfe0d92670aa6a615b89e4588232da76c8cf6440af48c7840abca9419243b"
   }
  }
 },
 "nbformat": 4,
 "nbformat_minor": 2
}
